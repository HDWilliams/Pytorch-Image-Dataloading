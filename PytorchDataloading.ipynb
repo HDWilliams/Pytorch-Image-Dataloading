{
  "nbformat": 4,
  "nbformat_minor": 0,
  "metadata": {
    "colab": {
      "name": "PytorchDataloading.ipynb",
      "version": "0.3.2",
      "provenance": [],
      "collapsed_sections": [],
      "include_colab_link": true
    },
    "kernelspec": {
      "name": "python3",
      "display_name": "Python 3"
    },
    "accelerator": "GPU"
  },
  "cells": [
    {
      "cell_type": "markdown",
      "metadata": {
        "id": "view-in-github",
        "colab_type": "text"
      },
      "source": [
        "<a href=\"https://colab.research.google.com/github/HDWilliams/Pytorch-Image-Dataloading/blob/master/PytorchDataloading.ipynb\" target=\"_parent\"><img src=\"https://colab.research.google.com/assets/colab-badge.svg\" alt=\"Open In Colab\"/></a>"
      ]
    },
    {
      "cell_type": "code",
      "metadata": {
        "id": "4klEkxPo6Vd5",
        "colab_type": "code",
        "colab": {}
      },
      "source": [
        "\n",
        "#!unzip cat-and-dog.zip\n",
        "#!unzip test_set.zip\n",
        "#!unzip training_set.zip\n"
      ],
      "execution_count": 0,
      "outputs": []
    },
    {
      "cell_type": "code",
      "metadata": {
        "id": "kCwAjz03eY0H",
        "colab_type": "code",
        "colab": {}
      },
      "source": [
        "#import modules for pytorch and image manipulation\n",
        "\n",
        "import torch\n",
        "import torchvision\n",
        "import matplotlib.pyplot as plt\n",
        "import numpy as np\n",
        "\n",
        "from torchvision import datasets, transforms\n"
      ],
      "execution_count": 0,
      "outputs": []
    },
    {
      "cell_type": "code",
      "metadata": {
        "id": "QPm4ZvEbcmbl",
        "colab_type": "code",
        "colab": {}
      },
      "source": [
        "#Upload data into ImageFolder \n",
        "path = '/content'\n"
      ],
      "execution_count": 0,
      "outputs": []
    },
    {
      "cell_type": "code",
      "metadata": {
        "id": "8UhUcF3Te_Uf",
        "colab_type": "code",
        "colab": {}
      },
      "source": [
        "def UploadData(path, train):\n",
        "  #set up transforms for train and test datasets\n",
        "  train_transforms = transforms.Compose([transforms.Resize(255), transforms.CenterCrop(224), transforms.RandomRotation(30), \n",
        "                                         transforms.RandomHorizontalFlip(), transforms.transforms.ToTensor()]) \n",
        "  test_transforms = transforms.Compose([transforms.Resize(255), transforms.CenterCrop(224), transforms.ToTensor()])\n",
        "  \n",
        "  #set up datasets from Image Folders\n",
        "  train_dataset = datasets.ImageFolder(path + '/training_set', transform=train_transforms)\n",
        "  test_dataset = datasets.ImageFolder(path + '/test_set', transform=test_transforms)\n",
        "  \n",
        "  #set up dataloaders with batch size of 32\n",
        "  trainloader = torch.utils.data.DataLoader(train_dataset, batch_size=32, shuffle=True)\n",
        "  testloader = torch.utils.data.DataLoader(test_dataset, batch_size=32, shuffle=True)\n",
        "  \n",
        "  return trainloader, testloader\n",
        "\n",
        "trainloader, testloader = UploadData(path, True)\n",
        "  "
      ],
      "execution_count": 0,
      "outputs": []
    },
    {
      "cell_type": "code",
      "metadata": {
        "id": "V9y51_sJtYh9",
        "colab_type": "code",
        "colab": {}
      },
      "source": [
        "#Show Image in Train set\n",
        "train_images, labels = next(iter(trainloader))\n",
        "trainImg = train_images[0].numpy()\n",
        "plt.imshow(trainImg[0])\n"
      ],
      "execution_count": 0,
      "outputs": []
    },
    {
      "cell_type": "code",
      "metadata": {
        "id": "gs5T7y7QCFjm",
        "colab_type": "code",
        "colab": {}
      },
      "source": [
        "#Show Image in Test set\n",
        "test_images, labels = next(iter(testloader))\n",
        "testImg = test_images[0].numpy()\n",
        "plt.imshow(testImg[0])"
      ],
      "execution_count": 0,
      "outputs": []
    }
  ]
}